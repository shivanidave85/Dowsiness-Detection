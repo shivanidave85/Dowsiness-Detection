{
  "nbformat": 4,
  "nbformat_minor": 0,
  "metadata": {
    "kernelspec": {
      "display_name": "Python 3",
      "language": "python",
      "name": "python3"
    },
    "language_info": {
      "codemirror_mode": {
        "name": "ipython",
        "version": 3
      },
      "file_extension": ".py",
      "mimetype": "text/x-python",
      "name": "python",
      "nbconvert_exporter": "python",
      "pygments_lexer": "ipython3",
      "version": "3.8.3"
    },
    "colab": {
      "name": "Day20.ipynb",
      "provenance": []
    }
  },
  "cells": [
    {
      "cell_type": "markdown",
      "metadata": {
        "id": "fWlM2_P7DQaO"
      },
      "source": [
        "# Drowsiness Detection"
      ]
    },
    {
      "cell_type": "code",
      "metadata": {
        "id": "C67GMknIDQaa"
      },
      "source": [
        "from scipy.spatial import distance as dist\n",
        "from imutils import face_utils\n",
        "import imutils\n",
        "import dlib\n",
        "import cv2\n",
        "import winsound #for generating sound\n",
        "\n",
        "frequency = 2500 \n",
        "duration = 1000"
      ],
      "execution_count": null,
      "outputs": []
    },
    {
      "cell_type": "code",
      "metadata": {
        "id": "X6pvISlmDQac"
      },
      "source": [
        "def eyeAspectRatio(eye):\n",
        "    #vertical coordinates of eye\n",
        "    A = dist.euclidean(eye[1], eye[5])\n",
        "    B = dist.euclidean(eye[2], eye[4])\n",
        "    #horizontal coordinates of eye\n",
        "    C = dist.euclidean(eye[0], eye[3])\n",
        "    ear = (A+B) / (2.0 * C)\n",
        "    return ear"
      ],
      "execution_count": null,
      "outputs": []
    },
    {
      "cell_type": "code",
      "metadata": {
        "id": "OALBxHlzDQad"
      },
      "source": [
        "count = 0 \n",
        "eye_aspect_ratio_thres = 0.3 #diatance between vertical eye coordinate threshold\n",
        "eyeFrames = 48 #consecutive frames for eye closure\n",
        "\n",
        "shapePredictor = \"shape_predictor_81_face_landmarks.dat\"\n",
        "\n",
        "cam = cv2.VideoCapture(0)\n",
        "detector = dlib.get_frontal_face_detector()\n",
        "predictor = dlib.shape_predictor(shapePredictor)\n",
        "\n",
        "#get the coord of left and right eye\n",
        "\n",
        "(lstart, lEnd) = face_utils.FACIAL_LANDMARKS_IDXS[\"left_eye\"]\n",
        "(rstart, rEnd) = face_utils.FACIAL_LANDMARKS_IDXS[\"right_eye\"]\n",
        "\n",
        "while True:\n",
        "    _,frame = cam.read()\n",
        "    frame = imutils.resize(frame, width = 450)\n",
        "    gray = cv2.cvtColor(frame, cv2.COLOR_BGR2GRAY)\n",
        "    \n",
        "    reacts = detector(gray , 0)\n",
        "    \n",
        "    for rect in reacts:\n",
        "        shape = predictor(gray, rect)\n",
        "        shape = face_utils.shape_to_np(shape)\n",
        "        \n",
        "        #combining both the eyes and hence calculate the combined aspect ratio\n",
        "        leftEye = shape[lstart:lEnd]\n",
        "        rightEye = shape[rstart:rEnd]\n",
        "        leftEAR = eyeAspectRatio(leftEye)\n",
        "        rightEAR = eyeAspectRatio(rightEye)\n",
        "        \n",
        "        ear = (leftEAR + rightEAR) / 2.0\n",
        "        \n",
        "        #collecting dots of eyes\n",
        "        leftEyeHull = cv2.convexHull(leftEye)\n",
        "        rightEyeHull = cv2.convexHull(rightEye)\n",
        "        \n",
        "        #combining all the points of eye(the dots from above)\n",
        "        cv2.drawContours(frame, [leftEyeHull], -1 ,(0, 0, 255), 1)\n",
        "        cv2.drawContours(frame, [rightEyeHull], -1, (0, 0, 255), 1)\n",
        "        \n",
        "        if ear < eye_aspect_ratio_thres:\n",
        "            print(\"b\")\n",
        "            count += 1\n",
        "            \n",
        "            if count >= eyeFrames:\n",
        "                print(\"A\")\n",
        "                cv2.putText(frame, \"DROWSINESS DETECTED\", (10, 30),\n",
        "                           cv2.FONT_HERSHEY_SIMPLEX, 0.7, (0,0,255),2)\n",
        "                \n",
        "                winsound.Beep(frequency, duration)\n",
        "            \n",
        "        else:\n",
        "            count = 0\n",
        "                \n",
        "    cv2.imshow(\"Frame\", frame)\n",
        "    key = cv2.waitKey(1) & 0xFF\n",
        "    \n",
        "    if key == ord(\"q\"):\n",
        "        break\n",
        "        \n",
        "cam.release()\n",
        "cv2.destroyAllWindows()"
      ],
      "execution_count": null,
      "outputs": []
    }
  ]
}